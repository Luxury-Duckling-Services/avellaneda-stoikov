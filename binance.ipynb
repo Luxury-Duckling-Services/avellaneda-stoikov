{
 "cells": [
  {
   "cell_type": "code",
   "execution_count": 1,
   "id": "f38e09a5-b2e8-4f19-9e7b-77d203f2c2ba",
   "metadata": {},
   "outputs": [],
   "source": [
    "# !pip install binance-connector\n",
    "# !pip install binance-futures-connector"
   ]
  },
  {
   "cell_type": "code",
   "execution_count": 2,
   "id": "173e2f0a",
   "metadata": {},
   "outputs": [],
   "source": [
    "# https://binance-docs.github.io/apidocs/futures/en/#how-to-manage-a-local-order-book-correctly\n",
    "# https://github.com/binance/binance-futures-connector-python/blob/main/examples/websocket/um_futures/partial_book_depth.py\n",
    "# https://github.com/binance/binance-futures-connector-python/blob/main/binance/websocket/um_futures/websocket_client.py\n",
    "\n",
    "import time\n",
    "import logging\n",
    "from binance.lib.utils import config_logging\n",
    "from binance.websocket.um_futures.websocket_client import UMFuturesWebsocketClient\n",
    "\n",
    "import json\n",
    "import csv\n",
    "\n",
    "config_logging(logging, logging.DEBUG)"
   ]
  },
  {
   "cell_type": "code",
   "execution_count": 3,
   "id": "ca4feea2-455e-492e-bbf8-d0ff658a4ca4",
   "metadata": {},
   "outputs": [],
   "source": [
    "with open('historical_ETHUSDT_orderbook_data.csv', 'w') as orderbook:\n",
    "    writer = csv.writer(orderbook)\n",
    "    writer.writerow([\"Datetime\"] + [\"bidp\" + str(i) for i in range(10)] + [\"askp\" + str(i) for i in range(10)] + [\"bidv\" + str(i) for i in range(10)] + [\"askv\" + str(i) for i in range(10)])"
   ]
  },
  {
   "cell_type": "code",
   "execution_count": 4,
   "id": "11ba6b1a-ca84-4b0c-b21f-7a4d6f1fb045",
   "metadata": {},
   "outputs": [],
   "source": [
    "with open('historical_ETHUSDT_kline_data.csv', 'w') as kline:\n",
    "    writer = csv.writer(kline)\n",
    "    writer.writerow([\"Datetime\",\"Open\",\"High\",\"Low\",\"Close\",\"Volume\"])"
   ]
  },
  {
   "cell_type": "code",
   "execution_count": 5,
   "id": "1f862f91-51a4-4a31-b4ad-a98603dbf169",
   "metadata": {},
   "outputs": [],
   "source": [
    "def message_handler(_,message):\n",
    "    d = json.loads(message)\n",
    "    \n",
    "    f = open(\"raw_message.txt\", \"a\")\n",
    "    f.write(message)\n",
    "    f.write('\\n')\n",
    "    f.close()\n",
    "\n",
    "    if 'e' in d:\n",
    "        if d['e'] == 'depthUpdate':\n",
    "            with open('historical_ETHUSDT_orderbook_data.csv', 'a') as orderbook:\n",
    "                writer = csv.writer(orderbook)\n",
    "\n",
    "                data = [ 0 for i in range(41)]\n",
    "                data[0] = d['T']\n",
    "                \n",
    "                for i in range(1 , 11):\n",
    "                    data[i] = d['b'][i - 1][0]\n",
    "                    data[i + 10] = d['a'][i - 1][0]\n",
    "                    data[i + 20] = d['b'][i - 1][1]\n",
    "                    data[i + 30] = d['a'][i - 1][1]\n",
    "                \n",
    "                writer.writerow( data )\n",
    "        elif d['e'] == \"continuous_kline\":\n",
    "            with open('historical_ETHUSDT_kline_data.csv', 'a') as kline:\n",
    "                writer = csv.writer(kline)\n",
    "                writer.writerow( [ d['k']['t'] , d['k']['o'] , d['k']['h'] , d['k']['l'] , d['k']['c'] , d['k']['v'] ])"
   ]
  },
  {
   "cell_type": "code",
   "execution_count": 6,
   "id": "f79d047b-3c4f-4028-aeea-2cb2e528ead2",
   "metadata": {},
   "outputs": [
    {
     "name": "stderr",
     "output_type": "stream",
     "text": [
      "DEBUG:binance.websocket.websocket_client:Creating connection with WebSocket Server: wss://fstream.binance.com/ws, proxies: None\n",
      "DEBUG:binance.websocket.websocket_client:WebSocket connection has been established: wss://fstream.binance.com/ws, proxies: None\n",
      "DEBUG:binance.websocket.websocket_client:Binance WebSocket Client started.\n",
      "DEBUG:binance.websocket.websocket_client:Sending message to Binance WebSocket Server: {\"method\": \"SUBSCRIBE\", \"params\": [\"ethusdt@depth10@100ms\"], \"id\": 1710470077066}\n",
      "DEBUG:binance.websocket.websocket_client:Sending message to Binance WebSocket Server: {\"method\": \"SUBSCRIBE\", \"params\": [\"ethusdt_perpetual@continuousKline_1m\"], \"id\": 1710470077068}\n",
      "DEBUG:binance.websocket.websocket_client:Received Ping; PONG frame sent back\n",
      "DEBUG:binance.websocket.websocket_client:Received Ping; PONG frame sent back\n",
      "DEBUG:binance.websocket.websocket_client:Received Ping; PONG frame sent back\n",
      "DEBUG:binance.websocket.websocket_client:Received Ping; PONG frame sent back\n",
      "DEBUG:binance.websocket.websocket_client:Received Ping; PONG frame sent back\n",
      "DEBUG:binance.websocket.websocket_client:Received Ping; PONG frame sent back\n",
      "DEBUG:binance.websocket.websocket_client:Received Ping; PONG frame sent back\n",
      "DEBUG:binance.websocket.websocket_client:Received Ping; PONG frame sent back\n",
      "DEBUG:binance.websocket.websocket_client:Received Ping; PONG frame sent back\n",
      "DEBUG:binance.websocket.websocket_client:Received Ping; PONG frame sent back\n",
      "DEBUG:root:closing ws connection\n",
      "WARNING:binance.websocket.websocket_client:CLOSE frame received, closing websocket connection\n"
     ]
    }
   ],
   "source": [
    "my_client = UMFuturesWebsocketClient(on_message=message_handler)\n",
    "\n",
    "my_client.partial_book_depth(symbol=\"ethusdt\",level=10,speed=100)\n",
    "my_client.continuous_kline(pair=\"ethusdt\", contractType=\"perpetual\", interval=\"1m\")\n",
    "#my_client.kline(symbol=\"ethusdt\", interval=\"1m\")\n",
    "\n",
    "t = 30 * 60\n",
    "\n",
    "time.sleep(t)\n",
    "\n",
    "logging.debug(\"closing ws connection\")\n",
    "my_client.stop()"
   ]
  },
  {
   "cell_type": "code",
   "execution_count": null,
   "id": "f4fe6449-4920-421a-ad5a-ccaf6dad890e",
   "metadata": {},
   "outputs": [],
   "source": []
  }
 ],
 "metadata": {
  "kernelspec": {
   "display_name": "Python 3 (ipykernel)",
   "language": "python",
   "name": "python3"
  },
  "language_info": {
   "codemirror_mode": {
    "name": "ipython",
    "version": 3
   },
   "file_extension": ".py",
   "mimetype": "text/x-python",
   "name": "python",
   "nbconvert_exporter": "python",
   "pygments_lexer": "ipython3",
   "version": "3.10.9"
  }
 },
 "nbformat": 4,
 "nbformat_minor": 5
}
